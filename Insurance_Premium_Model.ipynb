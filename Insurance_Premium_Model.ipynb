{
 "cells": [
  {
   "cell_type": "markdown",
   "metadata": {},
   "source": [
    "## Defining the Question\n",
    "\n",
    "### Specifying the Question\n",
    "\n",
    "The objective of this challenge is to create a machine learning model to predict how much a client will claim from Zimnat per month for a whole year.\n",
    "\n",
    "### Metrics of Sucess\n",
    "Create a model that predicts how much a client will claim from Zimnat per month for a whole year with the lowest MAE.\n",
    "\n",
    "### Understanding the Context\n",
    "\n",
    "Short-term insurance claims are one of the largest costs in the insurance industry, and are extremely difficult to forecast. Zimnat Insurance wants to predict the value of future claims per client, in order to better forecast annual costs.\n",
    "\n",
    "### The experimental Design \n",
    "\n",
    "1. Loading the Required Libraries.\n",
    "\n",
    "2. Checking out Data.\n",
    "\n",
    "3. Data Cleaning.\n",
    "\n",
    "4. Exploratory Design.\n",
    "\n",
    "5. Feature Engineering.\n",
    "\n",
    "6. Modelling. \n",
    "\n",
    "7. Conclusions and Recommendations.\n",
    "\n",
    "\n",
    "\n",
    "\n"
   ]
  },
  {
   "cell_type": "markdown",
   "metadata": {},
   "source": [
    "## Reading the Datasets"
   ]
  },
  {
   "cell_type": "code",
   "execution_count": 21,
   "metadata": {},
   "outputs": [],
   "source": [
    "# Loading the the required Libraries\n",
    "import pandas as pd\n",
    "import numpy as np\n",
    "import matplotlib.pyplot as plt \n",
    "import seaborn as sns\n",
    "from sklearn.metrics import mean_absolute_error\n",
    "from sklearn.model_selection import train_test_split\n",
    "from sklearn.preprocessing import LabelEncoder\n",
    "from sklearn.linear_model import LinearRegression\n",
    "from sklearn import linear_model, datasets\n",
    "from sklearn.model_selection import GridSearchCV\n",
    "%matplotlib inline\n",
    "import warnings\n",
    "warnings.filterwarnings('ignore')"
   ]
  },
  {
   "cell_type": "code",
   "execution_count": 22,
   "metadata": {},
   "outputs": [],
   "source": [
    "# Loading the datasets\n",
    "train_df = pd.read_csv(r\"C:\\Users\\Hp\\Downloads\\train (1).csv\")\n",
    "test_df = pd.read_csv(r\"C:\\Users\\Hp\\Downloads\\test (1).csv\")\n",
    "data_desc = pd.read_csv(r\"C:\\Users\\Hp\\Downloads\\DataDictionary.csv\")\n",
    "sample_sub = pd.read_csv(r\"C:\\Users\\Hp\\Downloads\\SampleSubmission (1).csv\")\n",
    "policies = pd.read_csv(r\"C:\\Users\\Hp\\Downloads\\policies.csv\")"
   ]
  },
  {
   "cell_type": "markdown",
   "metadata": {},
   "source": [
    "## Checking the Data"
   ]
  },
  {
   "cell_type": "code",
   "execution_count": 23,
   "metadata": {},
   "outputs": [
    {
     "data": {
      "text/html": [
       "<div>\n",
       "<style scoped>\n",
       "    .dataframe tbody tr th:only-of-type {\n",
       "        vertical-align: middle;\n",
       "    }\n",
       "\n",
       "    .dataframe tbody tr th {\n",
       "        vertical-align: top;\n",
       "    }\n",
       "\n",
       "    .dataframe thead th {\n",
       "        text-align: right;\n",
       "    }\n",
       "</style>\n",
       "<table border=\"1\" class=\"dataframe\">\n",
       "  <thead>\n",
       "    <tr style=\"text-align: right;\">\n",
       "      <th></th>\n",
       "      <th>claim_id</th>\n",
       "      <th>policy_number</th>\n",
       "      <th>claim_number</th>\n",
       "      <th>sum_insured</th>\n",
       "      <th>product</th>\n",
       "      <th>agent</th>\n",
       "      <th>class_of_business</th>\n",
       "      <th>risk_type</th>\n",
       "      <th>loss_date</th>\n",
       "      <th>client_type</th>\n",
       "      <th>renewal_frequency</th>\n",
       "      <th>primary_cause</th>\n",
       "      <th>secondary_cause</th>\n",
       "      <th>branch</th>\n",
       "      <th>target</th>\n",
       "    </tr>\n",
       "  </thead>\n",
       "  <tbody>\n",
       "    <tr>\n",
       "      <th>0</th>\n",
       "      <td>ID_JZ7QWRHH57RO</td>\n",
       "      <td>pol000009680</td>\n",
       "      <td>claim0011359</td>\n",
       "      <td>300000.0</td>\n",
       "      <td>prod00027</td>\n",
       "      <td>ag00068</td>\n",
       "      <td>cob00031</td>\n",
       "      <td>rt00006</td>\n",
       "      <td>2021-05-13</td>\n",
       "      <td>ct0003</td>\n",
       "      <td>rf0001</td>\n",
       "      <td>pc0007</td>\n",
       "      <td>sc00022</td>\n",
       "      <td>br00006</td>\n",
       "      <td>82150.00</td>\n",
       "    </tr>\n",
       "    <tr>\n",
       "      <th>1</th>\n",
       "      <td>ID_KQ5TJMVLJ4EP</td>\n",
       "      <td>pol000006869</td>\n",
       "      <td>claim0005272</td>\n",
       "      <td>16000.0</td>\n",
       "      <td>prod00005</td>\n",
       "      <td>ag00226</td>\n",
       "      <td>cob00010</td>\n",
       "      <td>rt00032</td>\n",
       "      <td>2018-05-13</td>\n",
       "      <td>ct0003</td>\n",
       "      <td>rf0001</td>\n",
       "      <td>pc0007</td>\n",
       "      <td>sc00023</td>\n",
       "      <td>br00002</td>\n",
       "      <td>3780.24</td>\n",
       "    </tr>\n",
       "    <tr>\n",
       "      <th>2</th>\n",
       "      <td>ID_NYHI7WJGGIAE</td>\n",
       "      <td>pol000006135</td>\n",
       "      <td>claim0004147</td>\n",
       "      <td>3000.0</td>\n",
       "      <td>prod00029</td>\n",
       "      <td>ag00037</td>\n",
       "      <td>cob00010</td>\n",
       "      <td>rt00026</td>\n",
       "      <td>2018-08-18</td>\n",
       "      <td>ct0003</td>\n",
       "      <td>rf0001</td>\n",
       "      <td>pc0007</td>\n",
       "      <td>sc00024</td>\n",
       "      <td>br00002</td>\n",
       "      <td>2196.50</td>\n",
       "    </tr>\n",
       "    <tr>\n",
       "      <th>3</th>\n",
       "      <td>ID_ROMMDCXYUXN5</td>\n",
       "      <td>pol000008991</td>\n",
       "      <td>claim0009962</td>\n",
       "      <td>6000.0</td>\n",
       "      <td>prod00005</td>\n",
       "      <td>ag00037</td>\n",
       "      <td>cob00009</td>\n",
       "      <td>rt00032</td>\n",
       "      <td>2018-12-20</td>\n",
       "      <td>ct0003</td>\n",
       "      <td>rf0001</td>\n",
       "      <td>pc0007</td>\n",
       "      <td>sc00021</td>\n",
       "      <td>br00001</td>\n",
       "      <td>105.67</td>\n",
       "    </tr>\n",
       "    <tr>\n",
       "      <th>4</th>\n",
       "      <td>ID_2OTD9NX8L73D</td>\n",
       "      <td>pol000007768</td>\n",
       "      <td>claim0007346</td>\n",
       "      <td>26850.0</td>\n",
       "      <td>prod00015</td>\n",
       "      <td>ag00226</td>\n",
       "      <td>cob00034</td>\n",
       "      <td>rt00023</td>\n",
       "      <td>2018-11-07</td>\n",
       "      <td>ct0001</td>\n",
       "      <td>rf0001</td>\n",
       "      <td>pc0007</td>\n",
       "      <td>sc00021</td>\n",
       "      <td>br00001</td>\n",
       "      <td>1605.64</td>\n",
       "    </tr>\n",
       "  </tbody>\n",
       "</table>\n",
       "</div>"
      ],
      "text/plain": [
       "          claim_id policy_number  claim_number  sum_insured    product  \\\n",
       "0  ID_JZ7QWRHH57RO  pol000009680  claim0011359     300000.0  prod00027   \n",
       "1  ID_KQ5TJMVLJ4EP  pol000006869  claim0005272      16000.0  prod00005   \n",
       "2  ID_NYHI7WJGGIAE  pol000006135  claim0004147       3000.0  prod00029   \n",
       "3  ID_ROMMDCXYUXN5  pol000008991  claim0009962       6000.0  prod00005   \n",
       "4  ID_2OTD9NX8L73D  pol000007768  claim0007346      26850.0  prod00015   \n",
       "\n",
       "     agent class_of_business risk_type   loss_date client_type  \\\n",
       "0  ag00068          cob00031   rt00006  2021-05-13      ct0003   \n",
       "1  ag00226          cob00010   rt00032  2018-05-13      ct0003   \n",
       "2  ag00037          cob00010   rt00026  2018-08-18      ct0003   \n",
       "3  ag00037          cob00009   rt00032  2018-12-20      ct0003   \n",
       "4  ag00226          cob00034   rt00023  2018-11-07      ct0001   \n",
       "\n",
       "  renewal_frequency primary_cause secondary_cause   branch    target  \n",
       "0            rf0001        pc0007         sc00022  br00006  82150.00  \n",
       "1            rf0001        pc0007         sc00023  br00002   3780.24  \n",
       "2            rf0001        pc0007         sc00024  br00002   2196.50  \n",
       "3            rf0001        pc0007         sc00021  br00001    105.67  \n",
       "4            rf0001        pc0007         sc00021  br00001   1605.64  "
      ]
     },
     "execution_count": 23,
     "metadata": {},
     "output_type": "execute_result"
    }
   ],
   "source": [
    "# Previewing Train Dataset \n",
    "train_df.head()"
   ]
  },
  {
   "cell_type": "code",
   "execution_count": 25,
   "metadata": {},
   "outputs": [
    {
     "data": {
      "text/html": [
       "<div>\n",
       "<style scoped>\n",
       "    .dataframe tbody tr th:only-of-type {\n",
       "        vertical-align: middle;\n",
       "    }\n",
       "\n",
       "    .dataframe tbody tr th {\n",
       "        vertical-align: top;\n",
       "    }\n",
       "\n",
       "    .dataframe thead th {\n",
       "        text-align: right;\n",
       "    }\n",
       "</style>\n",
       "<table border=\"1\" class=\"dataframe\">\n",
       "  <thead>\n",
       "    <tr style=\"text-align: right;\">\n",
       "      <th></th>\n",
       "      <th>claim_id</th>\n",
       "      <th>policy_number</th>\n",
       "      <th>claim_number</th>\n",
       "      <th>sum_insured</th>\n",
       "      <th>product</th>\n",
       "      <th>agent</th>\n",
       "      <th>class_of_business</th>\n",
       "      <th>risk_type</th>\n",
       "      <th>loss_date</th>\n",
       "      <th>client_type</th>\n",
       "      <th>renewal_frequency</th>\n",
       "      <th>primary_cause</th>\n",
       "      <th>secondary_cause</th>\n",
       "      <th>branch</th>\n",
       "    </tr>\n",
       "  </thead>\n",
       "  <tbody>\n",
       "    <tr>\n",
       "      <th>0</th>\n",
       "      <td>ID_4RO0KZI9BBW2</td>\n",
       "      <td>pol000007115</td>\n",
       "      <td>claim0005757</td>\n",
       "      <td>300000.0</td>\n",
       "      <td>prod00005</td>\n",
       "      <td>ag00068</td>\n",
       "      <td>cob00009</td>\n",
       "      <td>rt00032</td>\n",
       "      <td>2021-03-11</td>\n",
       "      <td>ct0003</td>\n",
       "      <td>rf0001</td>\n",
       "      <td>pc0007</td>\n",
       "      <td>sc00029</td>\n",
       "      <td>br00004</td>\n",
       "    </tr>\n",
       "    <tr>\n",
       "      <th>1</th>\n",
       "      <td>ID_GTE9ZUJ9GZ97</td>\n",
       "      <td>pol000006008</td>\n",
       "      <td>claim0003037</td>\n",
       "      <td>2700000.0</td>\n",
       "      <td>prod00015</td>\n",
       "      <td>ag00064</td>\n",
       "      <td>cob00034</td>\n",
       "      <td>rt00023</td>\n",
       "      <td>2020-06-25</td>\n",
       "      <td>ct0001</td>\n",
       "      <td>rf0003</td>\n",
       "      <td>pc0007</td>\n",
       "      <td>sc00022</td>\n",
       "      <td>br00002</td>\n",
       "    </tr>\n",
       "    <tr>\n",
       "      <th>2</th>\n",
       "      <td>ID_RUVIYRKWZ4RG</td>\n",
       "      <td>pol000007651</td>\n",
       "      <td>claim0006507</td>\n",
       "      <td>4071352.0</td>\n",
       "      <td>prod00012</td>\n",
       "      <td>ag00021</td>\n",
       "      <td>cob00016</td>\n",
       "      <td>rt00015</td>\n",
       "      <td>2019-03-14</td>\n",
       "      <td>ct0001</td>\n",
       "      <td>rf0001</td>\n",
       "      <td>pc0011</td>\n",
       "      <td>sc00049</td>\n",
       "      <td>br00001</td>\n",
       "    </tr>\n",
       "    <tr>\n",
       "      <th>3</th>\n",
       "      <td>ID_J81X8SWU6JYN</td>\n",
       "      <td>pol000010981</td>\n",
       "      <td>claim0013636</td>\n",
       "      <td>0.0</td>\n",
       "      <td>prod00002</td>\n",
       "      <td>ag00037</td>\n",
       "      <td>cob00002</td>\n",
       "      <td>rt00002</td>\n",
       "      <td>2018-12-04</td>\n",
       "      <td>ct0001</td>\n",
       "      <td>rf0002</td>\n",
       "      <td>pc0002</td>\n",
       "      <td>sc00012</td>\n",
       "      <td>br00005</td>\n",
       "    </tr>\n",
       "    <tr>\n",
       "      <th>4</th>\n",
       "      <td>ID_94NM3JJAWWOQ</td>\n",
       "      <td>pol000005926</td>\n",
       "      <td>claim0001750</td>\n",
       "      <td>1607178.0</td>\n",
       "      <td>prod00015</td>\n",
       "      <td>ag00037</td>\n",
       "      <td>cob00034</td>\n",
       "      <td>rt00023</td>\n",
       "      <td>2019-09-18</td>\n",
       "      <td>ct0001</td>\n",
       "      <td>rf0003</td>\n",
       "      <td>pc0007</td>\n",
       "      <td>sc00022</td>\n",
       "      <td>br00002</td>\n",
       "    </tr>\n",
       "  </tbody>\n",
       "</table>\n",
       "</div>"
      ],
      "text/plain": [
       "          claim_id policy_number  claim_number  sum_insured    product  \\\n",
       "0  ID_4RO0KZI9BBW2  pol000007115  claim0005757     300000.0  prod00005   \n",
       "1  ID_GTE9ZUJ9GZ97  pol000006008  claim0003037    2700000.0  prod00015   \n",
       "2  ID_RUVIYRKWZ4RG  pol000007651  claim0006507    4071352.0  prod00012   \n",
       "3  ID_J81X8SWU6JYN  pol000010981  claim0013636          0.0  prod00002   \n",
       "4  ID_94NM3JJAWWOQ  pol000005926  claim0001750    1607178.0  prod00015   \n",
       "\n",
       "     agent class_of_business risk_type   loss_date client_type  \\\n",
       "0  ag00068          cob00009   rt00032  2021-03-11      ct0003   \n",
       "1  ag00064          cob00034   rt00023  2020-06-25      ct0001   \n",
       "2  ag00021          cob00016   rt00015  2019-03-14      ct0001   \n",
       "3  ag00037          cob00002   rt00002  2018-12-04      ct0001   \n",
       "4  ag00037          cob00034   rt00023  2019-09-18      ct0001   \n",
       "\n",
       "  renewal_frequency primary_cause secondary_cause   branch  \n",
       "0            rf0001        pc0007         sc00029  br00004  \n",
       "1            rf0003        pc0007         sc00022  br00002  \n",
       "2            rf0001        pc0011         sc00049  br00001  \n",
       "3            rf0002        pc0002         sc00012  br00005  \n",
       "4            rf0003        pc0007         sc00022  br00002  "
      ]
     },
     "execution_count": 25,
     "metadata": {},
     "output_type": "execute_result"
    }
   ],
   "source": [
    "# Previewing the test dataset\n",
    "test_df.head()"
   ]
  },
  {
   "cell_type": "code",
   "execution_count": 26,
   "metadata": {},
   "outputs": [
    {
     "data": {
      "text/html": [
       "<div>\n",
       "<style scoped>\n",
       "    .dataframe tbody tr th:only-of-type {\n",
       "        vertical-align: middle;\n",
       "    }\n",
       "\n",
       "    .dataframe tbody tr th {\n",
       "        vertical-align: top;\n",
       "    }\n",
       "\n",
       "    .dataframe thead th {\n",
       "        text-align: right;\n",
       "    }\n",
       "</style>\n",
       "<table border=\"1\" class=\"dataframe\">\n",
       "  <thead>\n",
       "    <tr style=\"text-align: right;\">\n",
       "      <th></th>\n",
       "      <th>policy_number</th>\n",
       "      <th>product_code</th>\n",
       "      <th>trans_date</th>\n",
       "      <th>from_date</th>\n",
       "      <th>to_date</th>\n",
       "      <th>agent</th>\n",
       "      <th>class_of_business</th>\n",
       "      <th>client_type</th>\n",
       "      <th>renewal_frequency</th>\n",
       "      <th>branch</th>\n",
       "    </tr>\n",
       "  </thead>\n",
       "  <tbody>\n",
       "    <tr>\n",
       "      <th>0</th>\n",
       "      <td>pol000006995</td>\n",
       "      <td>prod00033</td>\n",
       "      <td>2017-07-01 08:24:55.800</td>\n",
       "      <td>2017-07-01 00:00:00.000</td>\n",
       "      <td>2018-07-01 00:00:00.000</td>\n",
       "      <td>ag00005</td>\n",
       "      <td>cob00035</td>\n",
       "      <td>ct0001</td>\n",
       "      <td>rf0002</td>\n",
       "      <td>br00002</td>\n",
       "    </tr>\n",
       "    <tr>\n",
       "      <th>1</th>\n",
       "      <td>pol000009828</td>\n",
       "      <td>prod00005</td>\n",
       "      <td>2017-07-01 09:04:02.217</td>\n",
       "      <td>2017-07-03 00:00:00.000</td>\n",
       "      <td>2017-11-02 00:00:00.000</td>\n",
       "      <td>ag00226</td>\n",
       "      <td>cob00009</td>\n",
       "      <td>ct0003</td>\n",
       "      <td>rf0001</td>\n",
       "      <td>br00006</td>\n",
       "    </tr>\n",
       "    <tr>\n",
       "      <th>2</th>\n",
       "      <td>pol000009828</td>\n",
       "      <td>prod00005</td>\n",
       "      <td>2017-07-01 09:04:02.217</td>\n",
       "      <td>2017-07-03 00:00:00.000</td>\n",
       "      <td>2017-11-02 00:00:00.000</td>\n",
       "      <td>ag00226</td>\n",
       "      <td>cob00031</td>\n",
       "      <td>ct0003</td>\n",
       "      <td>rf0001</td>\n",
       "      <td>br00006</td>\n",
       "    </tr>\n",
       "    <tr>\n",
       "      <th>3</th>\n",
       "      <td>pol000007729</td>\n",
       "      <td>prod00005</td>\n",
       "      <td>2017-07-01 09:36:53.843</td>\n",
       "      <td>2017-07-01 00:00:00.000</td>\n",
       "      <td>2017-10-31 00:00:00.000</td>\n",
       "      <td>ag00005</td>\n",
       "      <td>cob00031</td>\n",
       "      <td>ct0003</td>\n",
       "      <td>rf0001</td>\n",
       "      <td>br00002</td>\n",
       "    </tr>\n",
       "    <tr>\n",
       "      <th>4</th>\n",
       "      <td>pol000007729</td>\n",
       "      <td>prod00005</td>\n",
       "      <td>2017-07-01 09:36:53.843</td>\n",
       "      <td>2017-07-01 00:00:00.000</td>\n",
       "      <td>2017-10-31 00:00:00.000</td>\n",
       "      <td>ag00005</td>\n",
       "      <td>cob00009</td>\n",
       "      <td>ct0003</td>\n",
       "      <td>rf0001</td>\n",
       "      <td>br00002</td>\n",
       "    </tr>\n",
       "  </tbody>\n",
       "</table>\n",
       "</div>"
      ],
      "text/plain": [
       "  policy_number product_code               trans_date  \\\n",
       "0  pol000006995    prod00033  2017-07-01 08:24:55.800   \n",
       "1  pol000009828    prod00005  2017-07-01 09:04:02.217   \n",
       "2  pol000009828    prod00005  2017-07-01 09:04:02.217   \n",
       "3  pol000007729    prod00005  2017-07-01 09:36:53.843   \n",
       "4  pol000007729    prod00005  2017-07-01 09:36:53.843   \n",
       "\n",
       "                 from_date                  to_date    agent  \\\n",
       "0  2017-07-01 00:00:00.000  2018-07-01 00:00:00.000  ag00005   \n",
       "1  2017-07-03 00:00:00.000  2017-11-02 00:00:00.000  ag00226   \n",
       "2  2017-07-03 00:00:00.000  2017-11-02 00:00:00.000  ag00226   \n",
       "3  2017-07-01 00:00:00.000  2017-10-31 00:00:00.000  ag00005   \n",
       "4  2017-07-01 00:00:00.000  2017-10-31 00:00:00.000  ag00005   \n",
       "\n",
       "  class_of_business client_type renewal_frequency   branch  \n",
       "0          cob00035      ct0001            rf0002  br00002  \n",
       "1          cob00009      ct0003            rf0001  br00006  \n",
       "2          cob00031      ct0003            rf0001  br00006  \n",
       "3          cob00031      ct0003            rf0001  br00002  \n",
       "4          cob00009      ct0003            rf0001  br00002  "
      ]
     },
     "execution_count": 26,
     "metadata": {},
     "output_type": "execute_result"
    }
   ],
   "source": [
    "# Previewing the policies dataset\n",
    "policies.head()"
   ]
  },
  {
   "cell_type": "code",
   "execution_count": 27,
   "metadata": {},
   "outputs": [
    {
     "data": {
      "text/html": [
       "<div>\n",
       "<style scoped>\n",
       "    .dataframe tbody tr th:only-of-type {\n",
       "        vertical-align: middle;\n",
       "    }\n",
       "\n",
       "    .dataframe tbody tr th {\n",
       "        vertical-align: top;\n",
       "    }\n",
       "\n",
       "    .dataframe thead th {\n",
       "        text-align: right;\n",
       "    }\n",
       "</style>\n",
       "<table border=\"1\" class=\"dataframe\">\n",
       "  <thead>\n",
       "    <tr style=\"text-align: right;\">\n",
       "      <th></th>\n",
       "      <th>claim_id</th>\n",
       "      <th>target</th>\n",
       "    </tr>\n",
       "  </thead>\n",
       "  <tbody>\n",
       "    <tr>\n",
       "      <th>0</th>\n",
       "      <td>ID_4RO0KZI9BBW2</td>\n",
       "      <td>0</td>\n",
       "    </tr>\n",
       "    <tr>\n",
       "      <th>1</th>\n",
       "      <td>ID_GTE9ZUJ9GZ97</td>\n",
       "      <td>0</td>\n",
       "    </tr>\n",
       "    <tr>\n",
       "      <th>2</th>\n",
       "      <td>ID_RUVIYRKWZ4RG</td>\n",
       "      <td>0</td>\n",
       "    </tr>\n",
       "    <tr>\n",
       "      <th>3</th>\n",
       "      <td>ID_J81X8SWU6JYN</td>\n",
       "      <td>0</td>\n",
       "    </tr>\n",
       "    <tr>\n",
       "      <th>4</th>\n",
       "      <td>ID_94NM3JJAWWOQ</td>\n",
       "      <td>0</td>\n",
       "    </tr>\n",
       "  </tbody>\n",
       "</table>\n",
       "</div>"
      ],
      "text/plain": [
       "          claim_id  target\n",
       "0  ID_4RO0KZI9BBW2       0\n",
       "1  ID_GTE9ZUJ9GZ97       0\n",
       "2  ID_RUVIYRKWZ4RG       0\n",
       "3  ID_J81X8SWU6JYN       0\n",
       "4  ID_94NM3JJAWWOQ       0"
      ]
     },
     "execution_count": 27,
     "metadata": {},
     "output_type": "execute_result"
    }
   ],
   "source": [
    "# Previewing the Sample Submissions dataset\n",
    "sample_sub.head()"
   ]
  },
  {
   "cell_type": "code",
   "execution_count": 29,
   "metadata": {},
   "outputs": [
    {
     "data": {
      "text/html": [
       "<div>\n",
       "<style scoped>\n",
       "    .dataframe tbody tr th:only-of-type {\n",
       "        vertical-align: middle;\n",
       "    }\n",
       "\n",
       "    .dataframe tbody tr th {\n",
       "        vertical-align: top;\n",
       "    }\n",
       "\n",
       "    .dataframe thead th {\n",
       "        text-align: right;\n",
       "    }\n",
       "</style>\n",
       "<table border=\"1\" class=\"dataframe\">\n",
       "  <thead>\n",
       "    <tr style=\"text-align: right;\">\n",
       "      <th></th>\n",
       "      <th>Policy Data</th>\n",
       "      <th>Unnamed: 1</th>\n",
       "    </tr>\n",
       "  </thead>\n",
       "  <tbody>\n",
       "    <tr>\n",
       "      <th>0</th>\n",
       "      <td>Columns</td>\n",
       "      <td>Data type</td>\n",
       "    </tr>\n",
       "    <tr>\n",
       "      <th>1</th>\n",
       "      <td>policy number</td>\n",
       "      <td>Unique policy identifier</td>\n",
       "    </tr>\n",
       "    <tr>\n",
       "      <th>2</th>\n",
       "      <td>product code</td>\n",
       "      <td>product code</td>\n",
       "    </tr>\n",
       "    <tr>\n",
       "      <th>3</th>\n",
       "      <td>trans date</td>\n",
       "      <td>date of policy transaction</td>\n",
       "    </tr>\n",
       "    <tr>\n",
       "      <th>4</th>\n",
       "      <td>from date</td>\n",
       "      <td>first date of policy cover</td>\n",
       "    </tr>\n",
       "    <tr>\n",
       "      <th>5</th>\n",
       "      <td>to date</td>\n",
       "      <td>last date of policy cover</td>\n",
       "    </tr>\n",
       "    <tr>\n",
       "      <th>6</th>\n",
       "      <td>agency full name</td>\n",
       "      <td>agency</td>\n",
       "    </tr>\n",
       "    <tr>\n",
       "      <th>7</th>\n",
       "      <td>class of business</td>\n",
       "      <td>class of business</td>\n",
       "    </tr>\n",
       "    <tr>\n",
       "      <th>8</th>\n",
       "      <td>client type</td>\n",
       "      <td>client type</td>\n",
       "    </tr>\n",
       "    <tr>\n",
       "      <th>9</th>\n",
       "      <td>Renewal frequency</td>\n",
       "      <td>policy renewal frequency</td>\n",
       "    </tr>\n",
       "    <tr>\n",
       "      <th>10</th>\n",
       "      <td>branch</td>\n",
       "      <td>branch</td>\n",
       "    </tr>\n",
       "    <tr>\n",
       "      <th>11</th>\n",
       "      <td>NaN</td>\n",
       "      <td>NaN</td>\n",
       "    </tr>\n",
       "    <tr>\n",
       "      <th>12</th>\n",
       "      <td>NaN</td>\n",
       "      <td>NaN</td>\n",
       "    </tr>\n",
       "    <tr>\n",
       "      <th>13</th>\n",
       "      <td>NaN</td>\n",
       "      <td>NaN</td>\n",
       "    </tr>\n",
       "    <tr>\n",
       "      <th>14</th>\n",
       "      <td>Claims Data</td>\n",
       "      <td>NaN</td>\n",
       "    </tr>\n",
       "    <tr>\n",
       "      <th>15</th>\n",
       "      <td>Claim Number</td>\n",
       "      <td>Description</td>\n",
       "    </tr>\n",
       "    <tr>\n",
       "      <th>16</th>\n",
       "      <td>Policy Number</td>\n",
       "      <td>Unique policy identifier</td>\n",
       "    </tr>\n",
       "    <tr>\n",
       "      <th>17</th>\n",
       "      <td>Loss Date</td>\n",
       "      <td>Date of loss event</td>\n",
       "    </tr>\n",
       "    <tr>\n",
       "      <th>18</th>\n",
       "      <td>Sum Insured</td>\n",
       "      <td>Sum Insured</td>\n",
       "    </tr>\n",
       "    <tr>\n",
       "      <th>19</th>\n",
       "      <td>Paid to Date</td>\n",
       "      <td>Total cost of claim.</td>\n",
       "    </tr>\n",
       "    <tr>\n",
       "      <th>20</th>\n",
       "      <td>Agent</td>\n",
       "      <td>Agency (categorical variable)</td>\n",
       "    </tr>\n",
       "    <tr>\n",
       "      <th>21</th>\n",
       "      <td>risk type</td>\n",
       "      <td>Risk Type</td>\n",
       "    </tr>\n",
       "    <tr>\n",
       "      <th>22</th>\n",
       "      <td>class of business</td>\n",
       "      <td>Class of business</td>\n",
       "    </tr>\n",
       "    <tr>\n",
       "      <th>23</th>\n",
       "      <td>product</td>\n",
       "      <td>Product</td>\n",
       "    </tr>\n",
       "    <tr>\n",
       "      <th>24</th>\n",
       "      <td>client type</td>\n",
       "      <td>Client Type</td>\n",
       "    </tr>\n",
       "    <tr>\n",
       "      <th>25</th>\n",
       "      <td>Renewal frequency</td>\n",
       "      <td>Policy renewal frequency</td>\n",
       "    </tr>\n",
       "    <tr>\n",
       "      <th>26</th>\n",
       "      <td>primary cause</td>\n",
       "      <td>Primary cause of loss event</td>\n",
       "    </tr>\n",
       "    <tr>\n",
       "      <th>27</th>\n",
       "      <td>secondary cause</td>\n",
       "      <td>Secondary cause of loss event</td>\n",
       "    </tr>\n",
       "    <tr>\n",
       "      <th>28</th>\n",
       "      <td>branch</td>\n",
       "      <td>branch</td>\n",
       "    </tr>\n",
       "  </tbody>\n",
       "</table>\n",
       "</div>"
      ],
      "text/plain": [
       "          Policy Data                     Unnamed: 1\n",
       "0             Columns                      Data type\n",
       "1       policy number       Unique policy identifier\n",
       "2        product code                   product code\n",
       "3          trans date     date of policy transaction\n",
       "4           from date     first date of policy cover\n",
       "5             to date      last date of policy cover\n",
       "6    agency full name                         agency\n",
       "7   class of business              class of business\n",
       "8         client type                    client type\n",
       "9   Renewal frequency       policy renewal frequency\n",
       "10             branch                         branch\n",
       "11                NaN                            NaN\n",
       "12                NaN                            NaN\n",
       "13                NaN                            NaN\n",
       "14        Claims Data                            NaN\n",
       "15       Claim Number                    Description\n",
       "16      Policy Number       Unique policy identifier\n",
       "17          Loss Date             Date of loss event\n",
       "18        Sum Insured                    Sum Insured\n",
       "19       Paid to Date           Total cost of claim.\n",
       "20              Agent  Agency (categorical variable)\n",
       "21          risk type                      Risk Type\n",
       "22  class of business              Class of business\n",
       "23            product                        Product\n",
       "24        client type                    Client Type\n",
       "25  Renewal frequency       Policy renewal frequency\n",
       "26      primary cause    Primary cause of loss event\n",
       "27    secondary cause  Secondary cause of loss event\n",
       "28             branch                         branch"
      ]
     },
     "execution_count": 29,
     "metadata": {},
     "output_type": "execute_result"
    }
   ],
   "source": [
    "# Previewing the data dictionary\n",
    "data_desc"
   ]
  },
  {
   "cell_type": "code",
   "execution_count": 30,
   "metadata": {},
   "outputs": [
    {
     "data": {
      "text/plain": [
       "((9376, 15), (4019, 14), (4019, 2), (30371, 10))"
      ]
     },
     "execution_count": 30,
     "metadata": {},
     "output_type": "execute_result"
    }
   ],
   "source": [
    "# Checking the number of records in our datasets\n",
    "train_df.shape,test_df.shape, sample_sub.shape, policies.shape"
   ]
  },
  {
   "cell_type": "code",
   "execution_count": 31,
   "metadata": {},
   "outputs": [
    {
     "data": {
      "text/plain": [
       "claim_id              object\n",
       "policy_number         object\n",
       "claim_number          object\n",
       "sum_insured          float64\n",
       "product               object\n",
       "agent                 object\n",
       "class_of_business     object\n",
       "risk_type             object\n",
       "loss_date             object\n",
       "client_type           object\n",
       "renewal_frequency     object\n",
       "primary_cause         object\n",
       "secondary_cause       object\n",
       "branch                object\n",
       "target               float64\n",
       "dtype: object"
      ]
     },
     "execution_count": 31,
     "metadata": {},
     "output_type": "execute_result"
    }
   ],
   "source": [
    "# Checking whether each column has an appropriate datatype in the train dataset\n",
    "\n",
    "train_df.dtypes"
   ]
  },
  {
   "cell_type": "code",
   "execution_count": 32,
   "metadata": {},
   "outputs": [
    {
     "data": {
      "text/plain": [
       "claim_id              object\n",
       "policy_number         object\n",
       "claim_number          object\n",
       "sum_insured          float64\n",
       "product               object\n",
       "agent                 object\n",
       "class_of_business     object\n",
       "risk_type             object\n",
       "loss_date             object\n",
       "client_type           object\n",
       "renewal_frequency     object\n",
       "primary_cause         object\n",
       "secondary_cause       object\n",
       "branch                object\n",
       "dtype: object"
      ]
     },
     "execution_count": 32,
     "metadata": {},
     "output_type": "execute_result"
    }
   ],
   "source": [
    "# Checking whether each column has an appropriate datatype in the test dataset\n",
    "\n",
    "test_df.dtypes"
   ]
  },
  {
   "cell_type": "markdown",
   "metadata": {},
   "source": [
    "## Tidying the Dataset"
   ]
  },
  {
   "cell_type": "code",
   "execution_count": 33,
   "metadata": {},
   "outputs": [
    {
     "data": {
      "text/plain": [
       "claim_id             0.000000\n",
       "policy_number        0.009172\n",
       "claim_number         0.000000\n",
       "sum_insured          0.000000\n",
       "product              0.000000\n",
       "agent                0.000000\n",
       "class_of_business    0.000000\n",
       "risk_type            0.000000\n",
       "loss_date            0.000000\n",
       "client_type          0.000000\n",
       "renewal_frequency    0.000000\n",
       "primary_cause        0.000000\n",
       "secondary_cause      0.000000\n",
       "branch               0.000000\n",
       "target               0.000000\n",
       "dtype: float64"
      ]
     },
     "execution_count": 33,
     "metadata": {},
     "output_type": "execute_result"
    }
   ],
   "source": [
    "# Checking for missing data\n",
    "train_df.isna().sum()/len(df)"
   ]
  },
  {
   "cell_type": "code",
   "execution_count": 34,
   "metadata": {},
   "outputs": [
    {
     "data": {
      "text/plain": [
       "claim_id             0.000000\n",
       "policy_number        0.004373\n",
       "claim_number         0.000000\n",
       "sum_insured          0.000000\n",
       "product              0.000000\n",
       "agent                0.000000\n",
       "class_of_business    0.000000\n",
       "risk_type            0.000000\n",
       "loss_date            0.000000\n",
       "client_type          0.000000\n",
       "renewal_frequency    0.000000\n",
       "primary_cause        0.000000\n",
       "secondary_cause      0.000000\n",
       "branch               0.000000\n",
       "dtype: float64"
      ]
     },
     "execution_count": 34,
     "metadata": {},
     "output_type": "execute_result"
    }
   ],
   "source": [
    "# Checking for missing data\n",
    "test_df.isna().sum()/len(df)"
   ]
  },
  {
   "cell_type": "markdown",
   "metadata": {},
   "source": [
    "The train and test datasets have missing values in the policy_number column. These missing values have a ratio of 0.9% in the train dataset and 0.4% in the test dataset of the total records in the dataset. \n",
    "\n",
    "Since this column is categorical, we will fill the missing values with most common value."
   ]
  },
  {
   "cell_type": "code",
   "execution_count": 38,
   "metadata": {},
   "outputs": [
    {
     "data": {
      "text/plain": [
       "claim_id             0\n",
       "policy_number        0\n",
       "claim_number         0\n",
       "sum_insured          0\n",
       "product              0\n",
       "agent                0\n",
       "class_of_business    0\n",
       "risk_type            0\n",
       "loss_date            0\n",
       "client_type          0\n",
       "renewal_frequency    0\n",
       "primary_cause        0\n",
       "secondary_cause      0\n",
       "branch               0\n",
       "dtype: int64"
      ]
     },
     "execution_count": 38,
     "metadata": {},
     "output_type": "execute_result"
    }
   ],
   "source": [
    "# Handlin the missing values in the train and test datasets\n",
    "\n",
    "# Train\n",
    "train_df['policy_number'] = train_df['policy_number'].fillna(train_df['policy_number'].mode()[0])\n",
    "\n",
    "# Test\n",
    "\n",
    "test_df['policy_number'] = test_df['policy_number'].fillna(test_df['policy_number'].mode()[0])\n",
    "\n",
    "# Confirming if the changes were effective\n",
    "\n",
    "#train_df.isnull().sum()\n",
    "\n",
    "test_df.isnull().sum()"
   ]
  },
  {
   "cell_type": "code",
   "execution_count": 39,
   "metadata": {},
   "outputs": [
    {
     "data": {
      "text/plain": [
       "(0, 0)"
      ]
     },
     "execution_count": 39,
     "metadata": {},
     "output_type": "execute_result"
    }
   ],
   "source": [
    "# Checking for duplicates\n",
    "train_df.duplicated().sum(), test_df.duplicated().sum()"
   ]
  },
  {
   "cell_type": "markdown",
   "metadata": {},
   "source": [
    "There are no duplicates in both train and test datasets."
   ]
  },
  {
   "cell_type": "code",
   "execution_count": 41,
   "metadata": {},
   "outputs": [
    {
     "data": {
      "text/plain": [
       "claim_id                     object\n",
       "policy_number                object\n",
       "claim_number                 object\n",
       "sum_insured                 float64\n",
       "product                      object\n",
       "agent                        object\n",
       "class_of_business            object\n",
       "risk_type                    object\n",
       "loss_date            datetime64[ns]\n",
       "client_type                  object\n",
       "renewal_frequency            object\n",
       "primary_cause                object\n",
       "secondary_cause              object\n",
       "branch                       object\n",
       "dtype: object"
      ]
     },
     "execution_count": 41,
     "metadata": {},
     "output_type": "execute_result"
    }
   ],
   "source": [
    "#Converting the date columns in the dataset to the appropiate date time data type.\n",
    "\n",
    "train_df['loss_date'] = pd.to_datetime(train_df['loss_date'])\n",
    "test_df['loss_date'] = pd.to_datetime(test_df['loss_date'])\n",
    "\n",
    "# Confirming if the changes were effective\n",
    "#train_df.dtypes\n",
    "test_df.dtypes"
   ]
  },
  {
   "cell_type": "code",
   "execution_count": 43,
   "metadata": {},
   "outputs": [
    {
     "data": {
      "image/png": "[encoded data removed]",
      "text/plain": [
       "<Figure size 1296x504 with 2 Axes>"
      ]
     },
     "metadata": {
      "needs_background": "light"
     },
     "output_type": "display_data"
    }
   ],
   "source": [
    "# Checking for outliers in our numerical columns \n",
    "\n",
    "col_names = ['sum_insured', 'target']\n",
    "\n",
    "\n",
    "fig, axes = plt.subplots(nrows=1,ncols=2,figsize=(18,7))\n",
    "plt.suptitle('Checking for outliers using boxplots',fontsize=20,weight='bold',color='black')\n",
    "for ax, data, column in zip(axes.flatten(),train_df,col_names):\n",
    "  sns.boxplot(train_df[column],ax=ax)"
   ]
  },
  {
   "cell_type": "markdown",
   "metadata": {},
   "source": [
    "We have outliers in the numerical columns. We will normalize the dataset when doing feature engineering to tackle the outliers."
   ]
  },
  {
   "cell_type": "markdown",
   "metadata": {},
   "source": [
    "## Exploratory Analysis"
   ]
  },
  {
   "cell_type": "markdown",
   "metadata": {},
   "source": [
    "i) Central Tendencies"
   ]
  },
  {
   "cell_type": "code",
   "execution_count": 46,
   "metadata": {},
   "outputs": [
    {
     "data": {
      "text/html": [
       "<div>\n",
       "<style scoped>\n",
       "    .dataframe tbody tr th:only-of-type {\n",
       "        vertical-align: middle;\n",
       "    }\n",
       "\n",
       "    .dataframe tbody tr th {\n",
       "        vertical-align: top;\n",
       "    }\n",
       "\n",
       "    .dataframe thead th {\n",
       "        text-align: right;\n",
       "    }\n",
       "</style>\n",
       "<table border=\"1\" class=\"dataframe\">\n",
       "  <thead>\n",
       "    <tr style=\"text-align: right;\">\n",
       "      <th></th>\n",
       "      <th>sum_insured</th>\n",
       "      <th>target</th>\n",
       "    </tr>\n",
       "  </thead>\n",
       "  <tbody>\n",
       "    <tr>\n",
       "      <th>0</th>\n",
       "      <td>0.0</td>\n",
       "      <td>0.0</td>\n",
       "    </tr>\n",
       "  </tbody>\n",
       "</table>\n",
       "</div>"
      ],
      "text/plain": [
       "   sum_insured  target\n",
       "0          0.0     0.0"
      ]
     },
     "execution_count": 46,
     "metadata": {},
     "output_type": "execute_result"
    }
   ],
   "source": [
    "# Finding Mode \n",
    "num_cols = train_df[['sum_insured', 'target']]\n",
    "\n",
    "num_cols.mode()\n"
   ]
  },
  {
   "cell_type": "code",
   "execution_count": 47,
   "metadata": {},
   "outputs": [
    {
     "data": {
      "text/plain": [
       "sum_insured    50542.000\n",
       "target          1956.925\n",
       "dtype: float64"
      ]
     },
     "execution_count": 47,
     "metadata": {},
     "output_type": "execute_result"
    }
   ],
   "source": [
    "# Finding Median\n",
    "num_cols.median()"
   ]
  },
  {
   "cell_type": "code",
   "execution_count": 48,
   "metadata": {},
   "outputs": [
    {
     "data": {
      "text/plain": [
       "sum_insured    8.534790e+06\n",
       "target         4.146471e+04\n",
       "dtype: float64"
      ]
     },
     "execution_count": 48,
     "metadata": {},
     "output_type": "execute_result"
    }
   ],
   "source": [
    "# Finding mean\n",
    "num_cols.mean()"
   ]
  },
  {
   "cell_type": "code",
   "execution_count": 49,
   "metadata": {},
   "outputs": [
    {
     "data": {
      "text/html": [
       "<div>\n",
       "<style scoped>\n",
       "    .dataframe tbody tr th:only-of-type {\n",
       "        vertical-align: middle;\n",
       "    }\n",
       "\n",
       "    .dataframe tbody tr th {\n",
       "        vertical-align: top;\n",
       "    }\n",
       "\n",
       "    .dataframe thead th {\n",
       "        text-align: right;\n",
       "    }\n",
       "</style>\n",
       "<table border=\"1\" class=\"dataframe\">\n",
       "  <thead>\n",
       "    <tr style=\"text-align: right;\">\n",
       "      <th></th>\n",
       "      <th>sum_insured</th>\n",
       "      <th>target</th>\n",
       "    </tr>\n",
       "  </thead>\n",
       "  <tbody>\n",
       "    <tr>\n",
       "      <th>count</th>\n",
       "      <td>9.376000e+03</td>\n",
       "      <td>9.376000e+03</td>\n",
       "    </tr>\n",
       "    <tr>\n",
       "      <th>mean</th>\n",
       "      <td>8.534790e+06</td>\n",
       "      <td>4.146471e+04</td>\n",
       "    </tr>\n",
       "    <tr>\n",
       "      <th>std</th>\n",
       "      <td>1.125565e+08</td>\n",
       "      <td>2.084347e+05</td>\n",
       "    </tr>\n",
       "    <tr>\n",
       "      <th>min</th>\n",
       "      <td>0.000000e+00</td>\n",
       "      <td>0.000000e+00</td>\n",
       "    </tr>\n",
       "    <tr>\n",
       "      <th>25%</th>\n",
       "      <td>6.500000e+03</td>\n",
       "      <td>2.879250e+02</td>\n",
       "    </tr>\n",
       "    <tr>\n",
       "      <th>50%</th>\n",
       "      <td>5.054200e+04</td>\n",
       "      <td>1.956925e+03</td>\n",
       "    </tr>\n",
       "    <tr>\n",
       "      <th>75%</th>\n",
       "      <td>4.200000e+05</td>\n",
       "      <td>1.270064e+04</td>\n",
       "    </tr>\n",
       "    <tr>\n",
       "      <th>max</th>\n",
       "      <td>5.211868e+09</td>\n",
       "      <td>7.868591e+06</td>\n",
       "    </tr>\n",
       "  </tbody>\n",
       "</table>\n",
       "</div>"
      ],
      "text/plain": [
       "        sum_insured        target\n",
       "count  9.376000e+03  9.376000e+03\n",
       "mean   8.534790e+06  4.146471e+04\n",
       "std    1.125565e+08  2.084347e+05\n",
       "min    0.000000e+00  0.000000e+00\n",
       "25%    6.500000e+03  2.879250e+02\n",
       "50%    5.054200e+04  1.956925e+03\n",
       "75%    4.200000e+05  1.270064e+04\n",
       "max    5.211868e+09  7.868591e+06"
      ]
     },
     "execution_count": 49,
     "metadata": {},
     "output_type": "execute_result"
    }
   ],
   "source": [
    "num_cols.describe()"
   ]
  },
  {
   "cell_type": "code",
   "execution_count": 60,
   "metadata": {},
   "outputs": [
    {
     "data": {
      "text/plain": [
       "sum_insured    27.531764\n",
       "target         17.015541\n",
       "dtype: float64"
      ]
     },
     "execution_count": 60,
     "metadata": {},
     "output_type": "execute_result"
    }
   ],
   "source": [
    "num_cols.skew()"
   ]
  },
  {
   "cell_type": "code",
   "execution_count": 61,
   "metadata": {},
   "outputs": [
    {
     "data": {
      "text/plain": [
       "sum_insured    991.394908\n",
       "target         435.967074\n",
       "dtype: float64"
      ]
     },
     "execution_count": 61,
     "metadata": {},
     "output_type": "execute_result"
    }
   ],
   "source": [
    "num_cols.kurt()"
   ]
  },
  {
   "cell_type": "code",
   "execution_count": 73,
   "metadata": {},
   "outputs": [
    {
     "data": {
      "text/html": [
       "<div>\n",
       "<style scoped>\n",
       "    .dataframe tbody tr th:only-of-type {\n",
       "        vertical-align: middle;\n",
       "    }\n",
       "\n",
       "    .dataframe tbody tr th {\n",
       "        vertical-align: top;\n",
       "    }\n",
       "\n",
       "    .dataframe thead th {\n",
       "        text-align: right;\n",
       "    }\n",
       "</style>\n",
       "<table border=\"1\" class=\"dataframe\">\n",
       "  <thead>\n",
       "    <tr style=\"text-align: right;\">\n",
       "      <th></th>\n",
       "      <th>agent</th>\n",
       "      <th>branch</th>\n",
       "      <th>claim_number</th>\n",
       "      <th>class_of_business</th>\n",
       "      <th>client_type</th>\n",
       "      <th>policy_number</th>\n",
       "      <th>primary_cause</th>\n",
       "      <th>product</th>\n",
       "      <th>renewal_frequency</th>\n",
       "      <th>risk_type</th>\n",
       "      <th>secondary_cause</th>\n",
       "    </tr>\n",
       "  </thead>\n",
       "  <tbody>\n",
       "    <tr>\n",
       "      <th>0</th>\n",
       "      <td>ag00068</td>\n",
       "      <td>br00006</td>\n",
       "      <td>claim0011359</td>\n",
       "      <td>cob00031</td>\n",
       "      <td>ct0003</td>\n",
       "      <td>pol000009680</td>\n",
       "      <td>pc0007</td>\n",
       "      <td>prod00027</td>\n",
       "      <td>rf0001</td>\n",
       "      <td>rt00006</td>\n",
       "      <td>sc00022</td>\n",
       "    </tr>\n",
       "    <tr>\n",
       "      <th>1</th>\n",
       "      <td>ag00226</td>\n",
       "      <td>br00002</td>\n",
       "      <td>claim0005272</td>\n",
       "      <td>cob00010</td>\n",
       "      <td>ct0003</td>\n",
       "      <td>pol000006869</td>\n",
       "      <td>pc0007</td>\n",
       "      <td>prod00005</td>\n",
       "      <td>rf0001</td>\n",
       "      <td>rt00032</td>\n",
       "      <td>sc00023</td>\n",
       "    </tr>\n",
       "    <tr>\n",
       "      <th>2</th>\n",
       "      <td>ag00037</td>\n",
       "      <td>br00002</td>\n",
       "      <td>claim0004147</td>\n",
       "      <td>cob00010</td>\n",
       "      <td>ct0003</td>\n",
       "      <td>pol000006135</td>\n",
       "      <td>pc0007</td>\n",
       "      <td>prod00029</td>\n",
       "      <td>rf0001</td>\n",
       "      <td>rt00026</td>\n",
       "      <td>sc00024</td>\n",
       "    </tr>\n",
       "    <tr>\n",
       "      <th>3</th>\n",
       "      <td>ag00037</td>\n",
       "      <td>br00001</td>\n",
       "      <td>claim0009962</td>\n",
       "      <td>cob00009</td>\n",
       "      <td>ct0003</td>\n",
       "      <td>pol000008991</td>\n",
       "      <td>pc0007</td>\n",
       "      <td>prod00005</td>\n",
       "      <td>rf0001</td>\n",
       "      <td>rt00032</td>\n",
       "      <td>sc00021</td>\n",
       "    </tr>\n",
       "    <tr>\n",
       "      <th>4</th>\n",
       "      <td>ag00226</td>\n",
       "      <td>br00001</td>\n",
       "      <td>claim0007346</td>\n",
       "      <td>cob00034</td>\n",
       "      <td>ct0001</td>\n",
       "      <td>pol000007768</td>\n",
       "      <td>pc0007</td>\n",
       "      <td>prod00015</td>\n",
       "      <td>rf0001</td>\n",
       "      <td>rt00023</td>\n",
       "      <td>sc00021</td>\n",
       "    </tr>\n",
       "  </tbody>\n",
       "</table>\n",
       "</div>"
      ],
      "text/plain": [
       "     agent   branch  claim_number class_of_business client_type policy_number  \\\n",
       "0  ag00068  br00006  claim0011359          cob00031      ct0003  pol000009680   \n",
       "1  ag00226  br00002  claim0005272          cob00010      ct0003  pol000006869   \n",
       "2  ag00037  br00002  claim0004147          cob00010      ct0003  pol000006135   \n",
       "3  ag00037  br00001  claim0009962          cob00009      ct0003  pol000008991   \n",
       "4  ag00226  br00001  claim0007346          cob00034      ct0001  pol000007768   \n",
       "\n",
       "  primary_cause    product renewal_frequency risk_type secondary_cause  \n",
       "0        pc0007  prod00027            rf0001   rt00006         sc00022  \n",
       "1        pc0007  prod00005            rf0001   rt00032         sc00023  \n",
       "2        pc0007  prod00029            rf0001   rt00026         sc00024  \n",
       "3        pc0007  prod00005            rf0001   rt00032         sc00021  \n",
       "4        pc0007  prod00015            rf0001   rt00023         sc00021  "
      ]
     },
     "execution_count": 73,
     "metadata": {},
     "output_type": "execute_result"
    }
   ],
   "source": [
    "# Convert categorical variables to categorical objects\n",
    "cat_cols = train_df.columns.difference(['claim_id', 'loss_date', 'sum_insured', 'target']).astype(\"category\")\n",
    "\n",
    "# Preview categorical variables\n",
    "train_df[cat_cols].head()"
   ]
  },
  {
   "cell_type": "code",
   "execution_count": null,
   "metadata": {},
   "outputs": [],
   "source": []
  },
  {
   "cell_type": "code",
   "execution_count": 76,
   "metadata": {},
   "outputs": [
    {
     "name": "stdout",
     "output_type": "stream",
     "text": [
      "<class 'pandas.core.frame.DataFrame'>\n",
      "RangeIndex: 9376 entries, 0 to 9375\n",
      "Data columns (total 15 columns):\n",
      " #   Column             Non-Null Count  Dtype         \n",
      "---  ------             --------------  -----         \n",
      " 0   claim_id           9376 non-null   object        \n",
      " 1   policy_number      9376 non-null   category      \n",
      " 2   claim_number       9376 non-null   category      \n",
      " 3   sum_insured        9376 non-null   float64       \n",
      " 4   product            9376 non-null   category      \n",
      " 5   agent              9376 non-null   category      \n",
      " 6   class_of_business  9376 non-null   category      \n",
      " 7   risk_type          9376 non-null   category      \n",
      " 8   loss_date          9376 non-null   datetime64[ns]\n",
      " 9   client_type        9376 non-null   category      \n",
      " 10  renewal_frequency  9376 non-null   category      \n",
      " 11  primary_cause      9376 non-null   category      \n",
      " 12  secondary_cause    9376 non-null   category      \n",
      " 13  branch             9376 non-null   category      \n",
      " 14  target             9376 non-null   float64       \n",
      "dtypes: category(11), datetime64[ns](1), float64(2), object(1)\n",
      "memory usage: 912.2+ KB\n"
     ]
    }
   ],
   "source": [
    "# Fill in missing values in categorical variables with the most common\n",
    "#train[cat_cols] = train[cat_cols].apply(lambda x: x.fillna(x.value_counts().index[0]))\n",
    "\n",
    "# Convert\n",
    "for col in cat_cols:\n",
    "  train_df[col] = train_df[col].astype('category')\n",
    "\n",
    "# Confirm\n",
    "train_df.info()"
   ]
  },
  {
   "cell_type": "code",
   "execution_count": 74,
   "metadata": {},
   "outputs": [
    {
     "data": {
      "text/plain": [
       "claim_id                     object\n",
       "policy_number                object\n",
       "claim_number                 object\n",
       "sum_insured                 float64\n",
       "product                      object\n",
       "agent                        object\n",
       "class_of_business            object\n",
       "risk_type                    object\n",
       "loss_date            datetime64[ns]\n",
       "client_type                  object\n",
       "renewal_frequency            object\n",
       "primary_cause                object\n",
       "secondary_cause              object\n",
       "branch                       object\n",
       "target                      float64\n",
       "dtype: object"
      ]
     },
     "execution_count": 74,
     "metadata": {},
     "output_type": "execute_result"
    }
   ],
   "source": [
    "train_df.dtypes"
   ]
  },
  {
   "cell_type": "code",
   "execution_count": 77,
   "metadata": {},
   "outputs": [
    {
     "data": {
      "image/png": "[encoded data removed]",
      "text/plain": [
       "<Figure size 1008x504 with 1 Axes>"
      ]
     },
     "metadata": {
      "needs_background": "light"
     },
     "output_type": "display_data"
    }
   ],
   "source": [
    "# Checking Claims according to branch\n",
    "plt.figure(figsize = (14, 7))\n",
    "sns.countplot(x = 'branch', data = train_df)\n",
    "plt.title('Branch count plot')\n",
    "plt.show()"
   ]
  },
  {
   "cell_type": "markdown",
   "metadata": {},
   "source": [
    "## Feature Engineering\n"
   ]
  },
  {
   "cell_type": "code",
   "execution_count": 84,
   "metadata": {},
   "outputs": [
    {
     "data": {
      "text/html": [
       "<div>\n",
       "<style scoped>\n",
       "    .dataframe tbody tr th:only-of-type {\n",
       "        vertical-align: middle;\n",
       "    }\n",
       "\n",
       "    .dataframe tbody tr th {\n",
       "        vertical-align: top;\n",
       "    }\n",
       "\n",
       "    .dataframe thead th {\n",
       "        text-align: right;\n",
       "    }\n",
       "</style>\n",
       "<table border=\"1\" class=\"dataframe\">\n",
       "  <thead>\n",
       "    <tr style=\"text-align: right;\">\n",
       "      <th></th>\n",
       "      <th>claim_id</th>\n",
       "      <th>policy_number</th>\n",
       "      <th>claim_number</th>\n",
       "      <th>sum_insured</th>\n",
       "      <th>product</th>\n",
       "      <th>agent</th>\n",
       "      <th>class_of_business</th>\n",
       "      <th>risk_type</th>\n",
       "      <th>loss_date</th>\n",
       "      <th>client_type</th>\n",
       "      <th>renewal_frequency</th>\n",
       "      <th>primary_cause</th>\n",
       "      <th>secondary_cause</th>\n",
       "      <th>branch</th>\n",
       "      <th>target</th>\n",
       "    </tr>\n",
       "  </thead>\n",
       "  <tbody>\n",
       "    <tr>\n",
       "      <th>0</th>\n",
       "      <td>ID_JZ7QWRHH57RO</td>\n",
       "      <td>3070</td>\n",
       "      <td>7439</td>\n",
       "      <td>300000.0</td>\n",
       "      <td>26</td>\n",
       "      <td>4</td>\n",
       "      <td>30</td>\n",
       "      <td>5</td>\n",
       "      <td>2021-05-13</td>\n",
       "      <td>2</td>\n",
       "      <td>0</td>\n",
       "      <td>6</td>\n",
       "      <td>20</td>\n",
       "      <td>5</td>\n",
       "      <td>82150.00</td>\n",
       "    </tr>\n",
       "    <tr>\n",
       "      <th>1</th>\n",
       "      <td>ID_KQ5TJMVLJ4EP</td>\n",
       "      <td>1126</td>\n",
       "      <td>3469</td>\n",
       "      <td>16000.0</td>\n",
       "      <td>4</td>\n",
       "      <td>7</td>\n",
       "      <td>9</td>\n",
       "      <td>31</td>\n",
       "      <td>2018-05-13</td>\n",
       "      <td>2</td>\n",
       "      <td>0</td>\n",
       "      <td>6</td>\n",
       "      <td>21</td>\n",
       "      <td>1</td>\n",
       "      <td>3780.24</td>\n",
       "    </tr>\n",
       "    <tr>\n",
       "      <th>2</th>\n",
       "      <td>ID_NYHI7WJGGIAE</td>\n",
       "      <td>630</td>\n",
       "      <td>2799</td>\n",
       "      <td>3000.0</td>\n",
       "      <td>28</td>\n",
       "      <td>1</td>\n",
       "      <td>9</td>\n",
       "      <td>25</td>\n",
       "      <td>2018-08-18</td>\n",
       "      <td>2</td>\n",
       "      <td>0</td>\n",
       "      <td>6</td>\n",
       "      <td>22</td>\n",
       "      <td>1</td>\n",
       "      <td>2196.50</td>\n",
       "    </tr>\n",
       "    <tr>\n",
       "      <th>3</th>\n",
       "      <td>ID_ROMMDCXYUXN5</td>\n",
       "      <td>2546</td>\n",
       "      <td>6448</td>\n",
       "      <td>6000.0</td>\n",
       "      <td>4</td>\n",
       "      <td>1</td>\n",
       "      <td>8</td>\n",
       "      <td>31</td>\n",
       "      <td>2018-12-20</td>\n",
       "      <td>2</td>\n",
       "      <td>0</td>\n",
       "      <td>6</td>\n",
       "      <td>19</td>\n",
       "      <td>0</td>\n",
       "      <td>105.67</td>\n",
       "    </tr>\n",
       "    <tr>\n",
       "      <th>4</th>\n",
       "      <td>ID_2OTD9NX8L73D</td>\n",
       "      <td>1767</td>\n",
       "      <td>4832</td>\n",
       "      <td>26850.0</td>\n",
       "      <td>14</td>\n",
       "      <td>7</td>\n",
       "      <td>32</td>\n",
       "      <td>22</td>\n",
       "      <td>2018-11-07</td>\n",
       "      <td>0</td>\n",
       "      <td>0</td>\n",
       "      <td>6</td>\n",
       "      <td>19</td>\n",
       "      <td>0</td>\n",
       "      <td>1605.64</td>\n",
       "    </tr>\n",
       "  </tbody>\n",
       "</table>\n",
       "</div>"
      ],
      "text/plain": [
       "          claim_id  policy_number  claim_number  sum_insured  product  agent  \\\n",
       "0  ID_JZ7QWRHH57RO           3070          7439     300000.0       26      4   \n",
       "1  ID_KQ5TJMVLJ4EP           1126          3469      16000.0        4      7   \n",
       "2  ID_NYHI7WJGGIAE            630          2799       3000.0       28      1   \n",
       "3  ID_ROMMDCXYUXN5           2546          6448       6000.0        4      1   \n",
       "4  ID_2OTD9NX8L73D           1767          4832      26850.0       14      7   \n",
       "\n",
       "   class_of_business  risk_type  loss_date  client_type  renewal_frequency  \\\n",
       "0                 30          5 2021-05-13            2                  0   \n",
       "1                  9         31 2018-05-13            2                  0   \n",
       "2                  9         25 2018-08-18            2                  0   \n",
       "3                  8         31 2018-12-20            2                  0   \n",
       "4                 32         22 2018-11-07            0                  0   \n",
       "\n",
       "   primary_cause  secondary_cause  branch    target  \n",
       "0              6               20       5  82150.00  \n",
       "1              6               21       1   3780.24  \n",
       "2              6               22       1   2196.50  \n",
       "3              6               19       0    105.67  \n",
       "4              6               19       0   1605.64  "
      ]
     },
     "execution_count": 84,
     "metadata": {},
     "output_type": "execute_result"
    }
   ],
   "source": [
    "# Label Encoding our categorical variables\n",
    "from sklearn.preprocessing import LabelEncoder\n",
    "en = LabelEncoder()\n",
    "train_df[cat_cols] = train_df[cat_cols].apply(en.fit_transform)\n",
    "\n",
    "train_df.head()"
   ]
  },
  {
   "cell_type": "code",
   "execution_count": 92,
   "metadata": {},
   "outputs": [],
   "source": [
    "# Splitting the loss date column to day, month and year\n",
    "# day\n",
    "train_df['loss_date_day'] = train_df.loss_date.dt.day\n",
    "\n",
    "# month\n",
    "train_df['loss_date_month'] = train_df.loss_date.dt.month\n",
    " \n",
    "# year\n",
    "train_df['loss_date_year'] = train_df.loss_date.dt.year\n",
    "\n",
    "train_df.drop('loss_date', axis = 1, inplace=True)"
   ]
  },
  {
   "cell_type": "code",
   "execution_count": 94,
   "metadata": {},
   "outputs": [
    {
     "name": "stdout",
     "output_type": "stream",
     "text": [
      "[0.06643753 0.09477879 0.17226897 0.01716445 0.0459621  0.02706404\n",
      " 0.0296655  0.00505029 0.05182172 0.03151447 0.12334114 0.01210816\n",
      " 0.12574123 0.11481407 0.08226753]\n"
     ]
    },
    {
     "data": {
      "image/png": "[encoded data removed]",
      "text/plain": [
       "<Figure size 1080x432 with 1 Axes>"
      ]
     },
     "metadata": {},
     "output_type": "display_data"
    }
   ],
   "source": [
    "# Feature Selection\n",
    "plt.rcParams['figure.figsize']=15,6 \n",
    "sns.set_style(\"darkgrid\")\n",
    "\n",
    "X = train_df.drop(['target', 'claim_id'], axis=1)\n",
    "y = train_df['target']\n",
    "\n",
    "from sklearn.ensemble import ExtraTreesRegressor\n",
    "\n",
    "model = ExtraTreesRegressor()\n",
    "model.fit(X, y)\n",
    "print(model.feature_importances_)\n",
    "feat_importances = pd.Series(model.feature_importances_, index=X.columns)\n",
    "feat_importances.nlargest(10).plot(kind='barh')\n",
    "plt.title('the most 10 important feature are')\n",
    "plt.show()"
   ]
  },
  {
   "cell_type": "code",
   "execution_count": 96,
   "metadata": {},
   "outputs": [
    {
     "data": {
      "text/plain": [
       "Index(['claim_id', 'policy_number', 'claim_number', 'sum_insured', 'product',\n",
       "       'agent', 'class_of_business', 'risk_type', 'client_type',\n",
       "       'renewal_frequency', 'primary_cause', 'secondary_cause', 'branch',\n",
       "       'target', 'loss_date_day', 'loss_date_month', 'loss_date_year'],\n",
       "      dtype='object')"
      ]
     },
     "execution_count": 96,
     "metadata": {},
     "output_type": "execute_result"
    }
   ],
   "source": [
    "# Standardization\n",
    "\n",
    "train_df.columns"
   ]
  },
  {
   "cell_type": "markdown",
   "metadata": {},
   "source": [
    "## Modelling"
   ]
  },
  {
   "cell_type": "markdown",
   "metadata": {},
   "source": [
    "### Linear Regression"
   ]
  },
  {
   "cell_type": "code",
   "execution_count": 109,
   "metadata": {},
   "outputs": [
    {
     "name": "stdout",
     "output_type": "stream",
     "text": [
      "LinearRegression MAE score on the X_test is: 57943.49329133189\n"
     ]
    }
   ],
   "source": [
    "feat_imp = train_df[['sum_insured', 'loss_date_day', 'secondary_cause', 'loss_date_month','claim_number','loss_date_year','policy_number','renewal_frequency','agent', 'primary_cause']]\n",
    "\n",
    "X = feat_imp\n",
    "y = train_df['target']\n",
    "\n",
    "# Split data into train and test sets\n",
    "X_train, X_test, y_train, y_test = train_test_split(X,y,test_size=0.3, random_state=23)\n",
    "\n",
    "# Train model\n",
    "model = LinearRegression()\n",
    "model.fit(X_train, y_train)\n",
    "\n",
    "# Make predictions\n",
    "y_pred = model.predict(X_test)\n",
    "\n",
    "# Check the MAE score of the model\n",
    "print(f'LinearRegression MAE score on the X_test is: {mean_absolute_error(y_test, y_pred)}')"
   ]
  },
  {
   "cell_type": "markdown",
   "metadata": {},
   "source": [
    "### MLPRegressor"
   ]
  },
  {
   "cell_type": "code",
   "execution_count": 100,
   "metadata": {},
   "outputs": [],
   "source": [
    "from sklearn.neural_network import MLPRegressor\n",
    "#Using the classifier along with grid search:\n",
    "mlp=MLPRegressor(hidden_layer_sizes=(20,20,20),activation='relu',alpha=0.0001,learning_rate='constant',solver='lbfgs',random_state=23)\n",
    "#Fit model \n",
    "mlp.fit(X_train,y_train)\n",
    "#Prediting with trained model\n",
    "y_pred = mlp.predict(X_test)"
   ]
  },
  {
   "cell_type": "code",
   "execution_count": 101,
   "metadata": {},
   "outputs": [
    {
     "name": "stdout",
     "output_type": "stream",
     "text": [
      "MLPRegressor MAE score on the X_test is: 40220.59124072262\n"
     ]
    }
   ],
   "source": [
    "# Evaluating our model\n",
    "\n",
    "print(f'MLPRegressor MAE score on the X_test is: {mean_absolute_error(y_test, y_pred)}')"
   ]
  },
  {
   "cell_type": "markdown",
   "metadata": {},
   "source": [
    "# Random Forest"
   ]
  },
  {
   "cell_type": "code",
   "execution_count": 113,
   "metadata": {},
   "outputs": [
    {
     "name": "stdout",
     "output_type": "stream",
     "text": [
      "Fitting 4 folds for each of 180 candidates, totalling 720 fits\n"
     ]
    },
    {
     "data": {
      "text/plain": [
       "{'bootstrap': True,\n",
       " 'max_depth': 10,\n",
       " 'max_features': 'auto',\n",
       " 'min_samples_leaf': 1,\n",
       " 'min_samples_split': 2}"
      ]
     },
     "execution_count": 113,
     "metadata": {},
     "output_type": "execute_result"
    }
   ],
   "source": [
    "from sklearn.ensemble import RandomForestRegressor\n",
    "from sklearn.model_selection import GridSearchCV\n",
    "from sklearn.ensemble import RandomForestRegressor\n",
    "forest = RandomForestRegressor()\n",
    "params = {'bootstrap': [True, False],\n",
    "'max_depth': [10, 20, 30, 40, None],\n",
    "'max_features': ['auto', 'sqrt'],\n",
    "'min_samples_leaf': [1, 2, 4],\n",
    "'min_samples_split': [2, 5, 10]}\n",
    "grid_search = GridSearchCV(estimator=forest,\n",
    "                           param_grid=params,\n",
    "                           cv=4, n_jobs=-1, verbose=1, scoring = \"accuracy\")\n",
    "\n",
    "#Hyperparameter tuning\n",
    "grid_search.fit(X_train,y_train)\n",
    "grid_search.best_params_\n",
    "\n"
   ]
  },
  {
   "cell_type": "code",
   "execution_count": 114,
   "metadata": {},
   "outputs": [],
   "source": [
    "reg = RandomForestRegressor(max_depth=10,max_features='auto'\n",
    "        ,min_samples_leaf=1,min_samples_split=2,bootstrap=True,random_state=23)\n",
    "\n",
    "reg.fit(X_train, y_train)\n",
    "\n",
    "# Predicting \n",
    "y_pred = reg.predict(X_test)"
   ]
  },
  {
   "cell_type": "code",
   "execution_count": 115,
   "metadata": {},
   "outputs": [
    {
     "name": "stdout",
     "output_type": "stream",
     "text": [
      "Random Forest MAE score on the X_test is: 45369.896926710586\n"
     ]
    }
   ],
   "source": [
    "# Evaluating our model\n",
    "\n",
    "print(f'Random Forest MAE score on the X_test is: {mean_absolute_error(y_test, y_pred)}')"
   ]
  },
  {
   "cell_type": "markdown",
   "metadata": {},
   "source": [
    "### Preprocessing the Test File"
   ]
  },
  {
   "cell_type": "code",
   "execution_count": 117,
   "metadata": {},
   "outputs": [],
   "source": [
    "# Splitting the loss date column to day, month and year\n",
    "# day\n",
    "test_df['loss_date_day'] = test_df.loss_date.dt.day\n",
    "\n",
    "# month\n",
    "test_df['loss_date_month'] = test_df.loss_date.dt.month\n",
    " \n",
    "# year\n",
    "test_df['loss_date_year'] = test_df.loss_date.dt.year\n",
    "\n",
    "test_df.drop('loss_date', axis = 1, inplace=True)"
   ]
  },
  {
   "cell_type": "code",
   "execution_count": 121,
   "metadata": {},
   "outputs": [
    {
     "data": {
      "text/html": [
       "<div>\n",
       "<style scoped>\n",
       "    .dataframe tbody tr th:only-of-type {\n",
       "        vertical-align: middle;\n",
       "    }\n",
       "\n",
       "    .dataframe tbody tr th {\n",
       "        vertical-align: top;\n",
       "    }\n",
       "\n",
       "    .dataframe thead th {\n",
       "        text-align: right;\n",
       "    }\n",
       "</style>\n",
       "<table border=\"1\" class=\"dataframe\">\n",
       "  <thead>\n",
       "    <tr style=\"text-align: right;\">\n",
       "      <th></th>\n",
       "      <th>claim_id</th>\n",
       "      <th>policy_number</th>\n",
       "      <th>claim_number</th>\n",
       "      <th>sum_insured</th>\n",
       "      <th>product</th>\n",
       "      <th>agent</th>\n",
       "      <th>class_of_business</th>\n",
       "      <th>risk_type</th>\n",
       "      <th>client_type</th>\n",
       "      <th>renewal_frequency</th>\n",
       "      <th>primary_cause</th>\n",
       "      <th>secondary_cause</th>\n",
       "      <th>branch</th>\n",
       "      <th>loss_date_day</th>\n",
       "      <th>loss_date_month</th>\n",
       "      <th>loss_date_year</th>\n",
       "    </tr>\n",
       "  </thead>\n",
       "  <tbody>\n",
       "    <tr>\n",
       "      <th>0</th>\n",
       "      <td>ID_4RO0KZI9BBW2</td>\n",
       "      <td>739</td>\n",
       "      <td>1667</td>\n",
       "      <td>300000.0</td>\n",
       "      <td>4</td>\n",
       "      <td>4</td>\n",
       "      <td>8</td>\n",
       "      <td>29</td>\n",
       "      <td>2</td>\n",
       "      <td>0</td>\n",
       "      <td>6</td>\n",
       "      <td>26</td>\n",
       "      <td>3</td>\n",
       "      <td>11</td>\n",
       "      <td>3</td>\n",
       "      <td>2021</td>\n",
       "    </tr>\n",
       "    <tr>\n",
       "      <th>1</th>\n",
       "      <td>ID_GTE9ZUJ9GZ97</td>\n",
       "      <td>312</td>\n",
       "      <td>883</td>\n",
       "      <td>2700000.0</td>\n",
       "      <td>12</td>\n",
       "      <td>3</td>\n",
       "      <td>28</td>\n",
       "      <td>20</td>\n",
       "      <td>0</td>\n",
       "      <td>2</td>\n",
       "      <td>6</td>\n",
       "      <td>20</td>\n",
       "      <td>1</td>\n",
       "      <td>25</td>\n",
       "      <td>6</td>\n",
       "      <td>2020</td>\n",
       "    </tr>\n",
       "    <tr>\n",
       "      <th>2</th>\n",
       "      <td>ID_RUVIYRKWZ4RG</td>\n",
       "      <td>917</td>\n",
       "      <td>1895</td>\n",
       "      <td>4071352.0</td>\n",
       "      <td>10</td>\n",
       "      <td>0</td>\n",
       "      <td>14</td>\n",
       "      <td>14</td>\n",
       "      <td>0</td>\n",
       "      <td>0</td>\n",
       "      <td>9</td>\n",
       "      <td>43</td>\n",
       "      <td>0</td>\n",
       "      <td>14</td>\n",
       "      <td>3</td>\n",
       "      <td>2019</td>\n",
       "    </tr>\n",
       "    <tr>\n",
       "      <th>3</th>\n",
       "      <td>ID_J81X8SWU6JYN</td>\n",
       "      <td>2081</td>\n",
       "      <td>3852</td>\n",
       "      <td>0.0</td>\n",
       "      <td>1</td>\n",
       "      <td>1</td>\n",
       "      <td>1</td>\n",
       "      <td>1</td>\n",
       "      <td>0</td>\n",
       "      <td>1</td>\n",
       "      <td>1</td>\n",
       "      <td>10</td>\n",
       "      <td>4</td>\n",
       "      <td>4</td>\n",
       "      <td>12</td>\n",
       "      <td>2018</td>\n",
       "    </tr>\n",
       "    <tr>\n",
       "      <th>4</th>\n",
       "      <td>ID_94NM3JJAWWOQ</td>\n",
       "      <td>257</td>\n",
       "      <td>507</td>\n",
       "      <td>1607178.0</td>\n",
       "      <td>12</td>\n",
       "      <td>1</td>\n",
       "      <td>28</td>\n",
       "      <td>20</td>\n",
       "      <td>0</td>\n",
       "      <td>2</td>\n",
       "      <td>6</td>\n",
       "      <td>20</td>\n",
       "      <td>1</td>\n",
       "      <td>18</td>\n",
       "      <td>9</td>\n",
       "      <td>2019</td>\n",
       "    </tr>\n",
       "  </tbody>\n",
       "</table>\n",
       "</div>"
      ],
      "text/plain": [
       "          claim_id  policy_number  claim_number  sum_insured  product  agent  \\\n",
       "0  ID_4RO0KZI9BBW2            739          1667     300000.0        4      4   \n",
       "1  ID_GTE9ZUJ9GZ97            312           883    2700000.0       12      3   \n",
       "2  ID_RUVIYRKWZ4RG            917          1895    4071352.0       10      0   \n",
       "3  ID_J81X8SWU6JYN           2081          3852          0.0        1      1   \n",
       "4  ID_94NM3JJAWWOQ            257           507    1607178.0       12      1   \n",
       "\n",
       "   class_of_business  risk_type  client_type  renewal_frequency  \\\n",
       "0                  8         29            2                  0   \n",
       "1                 28         20            0                  2   \n",
       "2                 14         14            0                  0   \n",
       "3                  1          1            0                  1   \n",
       "4                 28         20            0                  2   \n",
       "\n",
       "   primary_cause  secondary_cause  branch  loss_date_day  loss_date_month  \\\n",
       "0              6               26       3             11                3   \n",
       "1              6               20       1             25                6   \n",
       "2              9               43       0             14                3   \n",
       "3              1               10       4              4               12   \n",
       "4              6               20       1             18                9   \n",
       "\n",
       "   loss_date_year  \n",
       "0            2021  \n",
       "1            2020  \n",
       "2            2019  \n",
       "3            2018  \n",
       "4            2019  "
      ]
     },
     "execution_count": 121,
     "metadata": {},
     "output_type": "execute_result"
    }
   ],
   "source": [
    "# Label Encoding \n",
    "test_df[cat_cols] = test_df[cat_cols].apply(en.fit_transform)\n",
    "\n",
    "test_df.head()"
   ]
  },
  {
   "cell_type": "code",
   "execution_count": 131,
   "metadata": {},
   "outputs": [],
   "source": [
    "main_cols = ['sum_insured', 'loss_date_day', 'secondary_cause', 'loss_date_month','claim_number','loss_date_year','policy_number','renewal_frequency','agent', 'primary_cause']\n",
    "# Make prediction on the test set\n",
    "test = test_df[main_cols]\n",
    "predictions = reg.predict(test)\n",
    "\n",
    "# # Create a submission file\n",
    "sub_file = sample_sub.copy()\n",
    "sub_file.target = predictions"
   ]
  },
  {
   "cell_type": "code",
   "execution_count": 132,
   "metadata": {},
   "outputs": [
    {
     "data": {
      "text/html": [
       "<div>\n",
       "<style scoped>\n",
       "    .dataframe tbody tr th:only-of-type {\n",
       "        vertical-align: middle;\n",
       "    }\n",
       "\n",
       "    .dataframe tbody tr th {\n",
       "        vertical-align: top;\n",
       "    }\n",
       "\n",
       "    .dataframe thead th {\n",
       "        text-align: right;\n",
       "    }\n",
       "</style>\n",
       "<table border=\"1\" class=\"dataframe\">\n",
       "  <thead>\n",
       "    <tr style=\"text-align: right;\">\n",
       "      <th></th>\n",
       "      <th>claim_id</th>\n",
       "      <th>target</th>\n",
       "    </tr>\n",
       "  </thead>\n",
       "  <tbody>\n",
       "    <tr>\n",
       "      <th>0</th>\n",
       "      <td>ID_4RO0KZI9BBW2</td>\n",
       "      <td>129736.776856</td>\n",
       "    </tr>\n",
       "    <tr>\n",
       "      <th>1</th>\n",
       "      <td>ID_GTE9ZUJ9GZ97</td>\n",
       "      <td>128791.852124</td>\n",
       "    </tr>\n",
       "    <tr>\n",
       "      <th>2</th>\n",
       "      <td>ID_RUVIYRKWZ4RG</td>\n",
       "      <td>142956.588308</td>\n",
       "    </tr>\n",
       "    <tr>\n",
       "      <th>3</th>\n",
       "      <td>ID_J81X8SWU6JYN</td>\n",
       "      <td>575.345396</td>\n",
       "    </tr>\n",
       "    <tr>\n",
       "      <th>4</th>\n",
       "      <td>ID_94NM3JJAWWOQ</td>\n",
       "      <td>23576.489025</td>\n",
       "    </tr>\n",
       "  </tbody>\n",
       "</table>\n",
       "</div>"
      ],
      "text/plain": [
       "          claim_id         target\n",
       "0  ID_4RO0KZI9BBW2  129736.776856\n",
       "1  ID_GTE9ZUJ9GZ97  128791.852124\n",
       "2  ID_RUVIYRKWZ4RG  142956.588308\n",
       "3  ID_J81X8SWU6JYN     575.345396\n",
       "4  ID_94NM3JJAWWOQ   23576.489025"
      ]
     },
     "execution_count": 132,
     "metadata": {},
     "output_type": "execute_result"
    }
   ],
   "source": [
    "sub_file.head()"
   ]
  },
  {
   "cell_type": "markdown",
   "metadata": {},
   "source": [
    "### XGBoost"
   ]
  },
  {
   "cell_type": "code",
   "execution_count": null,
   "metadata": {},
   "outputs": [],
   "source": []
  }
 ],
 "metadata": {
  "interpreter": {
   "hash": "d421f7e0be82773f79ff071f6681b3a26ad583fa2b319fe248c43945bdde9151"
  },
  "kernelspec": {
   "display_name": "Python 3.9.7 ('base')",
   "language": "python",
   "name": "python3"
  },
  "language_info": {
   "codemirror_mode": {
    "name": "ipython",
    "version": 3
   },
   "file_extension": ".py",
   "mimetype": "text/x-python",
   "name": "python",
   "nbconvert_exporter": "python",
   "pygments_lexer": "ipython3",
   "version": "3.9.7"
  },
  "orig_nbformat": 4
 },
 "nbformat": 4,
 "nbformat_minor": 2
}
